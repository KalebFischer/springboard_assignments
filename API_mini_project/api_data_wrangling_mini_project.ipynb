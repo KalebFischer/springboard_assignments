{
 "cells": [
  {
   "cell_type": "markdown",
   "metadata": {},
   "source": [
    "This exercise will require you to pull some data from the Qunadl API. Qaundl is currently the most widely used aggregator of financial market data."
   ]
  },
  {
   "cell_type": "markdown",
   "metadata": {},
   "source": [
    "As a first step, you will need to register a free account on the http://www.quandl.com website."
   ]
  },
  {
   "cell_type": "markdown",
   "metadata": {},
   "source": [
    "After you register, you will be provided with a unique API key, that you should store:"
   ]
  },
  {
   "cell_type": "code",
   "execution_count": 1,
   "metadata": {
    "collapsed": true
   },
   "outputs": [],
   "source": [
    "# Store the API key as a string - according to PEP8, constants are always named in all upper case\n",
    "API_KEY = ''"
   ]
  },
  {
   "cell_type": "markdown",
   "metadata": {},
   "source": [
    "Qaundl has a large number of data sources, but, unfortunately, most of them require a Premium subscription. Still, there are also a good number of free datasets."
   ]
  },
  {
   "cell_type": "markdown",
   "metadata": {},
   "source": [
    "For this mini project, we will focus on equities data from the Frankfurt Stock Exhange (FSE), which is available for free. We'll try and analyze the stock prices of a company called Carl Zeiss Meditec, which manufactures tools for eye examinations, as well as medical lasers for laser eye surgery: https://www.zeiss.com/meditec/int/home.html. The company is listed under the stock ticker AFX_X."
   ]
  },
  {
   "cell_type": "markdown",
   "metadata": {},
   "source": [
    "You can find the detailed Quandl API instructions here: https://docs.quandl.com/docs/time-series"
   ]
  },
  {
   "cell_type": "markdown",
   "metadata": {},
   "source": [
    "While there is a dedicated Python package for connecting to the Quandl API, we would prefer that you use the *requests* package, which can be easily downloaded using *pip* or *conda*. You can find the documentation for the package here: http://docs.python-requests.org/en/master/ "
   ]
  },
  {
   "cell_type": "markdown",
   "metadata": {},
   "source": [
    "Finally, apart from the *requests* package, you are encouraged to not use any third party Python packages, such as *pandas*, and instead focus on what's available in the Python Standard Library (the *collections* module might come in handy: https://pymotw.com/3/collections/).\n",
    "Also, since you won't have access to DataFrames, you are encouraged to us Python's native data structures - preferably dictionaries, though some questions can also be answered using lists.\n",
    "You can read more on these data structures here: https://docs.python.org/3/tutorial/datastructures.html"
   ]
  },
  {
   "cell_type": "markdown",
   "metadata": {},
   "source": [
    "Keep in mind that the JSON responses you will be getting from the API map almost one-to-one to Python's dictionaries. Unfortunately, they can be very nested, so make sure you read up on indexing dictionaries in the documentation provided above."
   ]
  },
  {
   "cell_type": "code",
   "execution_count": 2,
   "metadata": {
    "collapsed": true
   },
   "outputs": [],
   "source": [
    "# First, import the relevant modules\n",
    "import requests\n"
   ]
  },
  {
   "cell_type": "code",
   "execution_count": 3,
   "metadata": {
    "collapsed": true
   },
   "outputs": [],
   "source": [
    "# Now, call the Quandl API and pull out a small sample of the data (only one day) to get a glimpse\n",
    "# into the JSON structure that will be returned\n",
    "AFX_url_str = 'https://www.quandl.com/api/v3/datasets/FSE/AFX_X.json?'\n",
    "AFX_date_str = 'start_date=2017-06-08&end_date=2017-06-08'\n",
    "AFX_APIkey_str = '&api_key='+API_KEY\n",
    "AFX_X_06082017_r = requests.get(AFX_url_str+AFX_date_str+AFX_APIkey_str)"
   ]
  },
  {
   "cell_type": "code",
   "execution_count": 4,
   "metadata": {},
   "outputs": [
    {
     "name": "stdout",
     "output_type": "stream",
     "text": [
      "{'dataset': {'id': 10095370, 'dataset_code': 'AFX_X', 'database_code': 'FSE', 'name': 'Carl Zeiss Meditec (AFX_X)', 'description': 'Stock Prices for Carl Zeiss Meditec (AFX) from the Frankfurt Stock Exchange.<br><br>Trading System: Xetra<br><br>ISIN: DE0005313704', 'refreshed_at': '2018-05-28T22:30:23.570Z', 'newest_available_date': '2018-05-28', 'oldest_available_date': '2000-06-07', 'column_names': ['Date', 'Open', 'High', 'Low', 'Close', 'Change', 'Traded Volume', 'Turnover', 'Last Price of the Day', 'Daily Traded Units', 'Daily Turnover'], 'frequency': 'daily', 'type': 'Time Series', 'premium': False, 'limit': None, 'transform': None, 'column_index': None, 'start_date': '2017-06-08', 'end_date': '2017-06-08', 'data': [['2017-06-08', 47.8, 47.8, 46.27, 46.27, None, 1945.0, 90599.0, None, None, None]], 'collapse': None, 'order': None, 'database_id': 6129}}\n"
     ]
    }
   ],
   "source": [
    "# Inspect the JSON structure of the object you created, and take note of how nested it is,\n",
    "# as well as the overall structure\n",
    "print(AFX_X_06082017_r.json())"
   ]
  },
  {
   "cell_type": "markdown",
   "metadata": {},
   "source": [
    "These are your tasks for this mini project:\n",
    "\n",
    "1. Collect data from the Franfurt Stock Exchange, for the ticker AFX_X, for the whole year 2017 (keep in mind that the date format is YYYY-MM-DD).\n",
    "2. Convert the returned JSON object into a Python dictionary.\n",
    "3. Calculate what the highest and lowest opening prices were for the stock in this period.\n",
    "4. What was the largest change in any one day (based on High and Low price)?\n",
    "5. What was the largest change between any two days (based on Closing Price)?\n",
    "6. What was the average daily trading volume during this year?\n",
    "7. (Optional) What was the median trading volume during this year. (Note: you may need to implement your own function for calculating the median.)"
   ]
  },
  {
   "cell_type": "markdown",
   "metadata": {
    "collapsed": true
   },
   "source": [
    "### 1. Collect data from the Franfurt Stock Exchange, for the ticker AFX_X, for the whole year 2017 (keep in mind that the date format is YYYY-MM-DD)."
   ]
  },
  {
   "cell_type": "code",
   "execution_count": 5,
   "metadata": {},
   "outputs": [],
   "source": [
    "\n",
    "AFX_url_str = 'https://www.quandl.com/api/v3/datasets/FSE/AFX_X.json?'\n",
    "AFX_date_str = 'start_date=2017-01-01&end_date=2017-12-31'\n",
    "AFX_APIkey_str = '&api_key='+API_KEY\n",
    "AFX_X_2017_r = requests.get(AFX_url_str+AFX_date_str+AFX_APIkey_str)\n"
   ]
  },
  {
   "cell_type": "markdown",
   "metadata": {},
   "source": [
    "### 2. Convert the returned JSON object into a Python dictionary."
   ]
  },
  {
   "cell_type": "code",
   "execution_count": 6,
   "metadata": {},
   "outputs": [],
   "source": [
    "#convert json to dict with .json()\n",
    "AFX_X_2017_dict = AFX_X_2017_r.json()"
   ]
  },
  {
   "cell_type": "markdown",
   "metadata": {},
   "source": [
    "### 3. Calculate what the highest and lowest opening prices were for the stock in this period."
   ]
  },
  {
   "cell_type": "code",
   "execution_count": 8,
   "metadata": {},
   "outputs": [
    {
     "name": "stdout",
     "output_type": "stream",
     "text": [
      "53.11\n",
      "34.0\n"
     ]
    }
   ],
   "source": [
    "\n",
    "def list_from_dict_data(AFX_dictionary,column_name_string):\n",
    "    '''\n",
    "    This function takes the AFX dictionary and column name string\n",
    "    as inputs.\n",
    "    It then finds the index of the column name string which will\n",
    "    match the index of the data for each date. \n",
    "    An empty list for the values is initialized.\n",
    "    Then, for each date in the dataset data, the value for the \n",
    "    specified column is appended to the list, but only if the \n",
    "    value is of type float.\n",
    "    A list of values is returned.\n",
    "    '''\n",
    "    pos = AFX_dictionary['dataset']['column_names'].index(column_name_string)\n",
    "    \n",
    "    value_list = []\n",
    "   \n",
    "    for date in AFX_dictionary['dataset']['data']:\n",
    "        if type(date[pos]) is float:\n",
    "            value_list.append(date[pos])\n",
    "            \n",
    "    return value_list\n",
    "\n",
    "#get opening prices\n",
    "opening_prices = list_from_dict_data(AFX_X_2017_dict,'Open')\n",
    "\n",
    "#print the maximum opening price\n",
    "print(max(opening_prices))\n",
    "\n",
    "#print the minimum opening price\n",
    "print(min(opening_prices))"
   ]
  },
  {
   "cell_type": "markdown",
   "metadata": {},
   "source": [
    "### 4. What was the largest change in any one day (based on High and Low price)?"
   ]
  },
  {
   "cell_type": "code",
   "execution_count": 9,
   "metadata": {},
   "outputs": [
    {
     "name": "stdout",
     "output_type": "stream",
     "text": [
      "2.8100000000000023\n"
     ]
    }
   ],
   "source": [
    "#get high prices\n",
    "high_prices = list_from_dict_data(AFX_X_2017_dict,'High')\n",
    "#get low prices\n",
    "low_prices = list_from_dict_data(AFX_X_2017_dict,'Low')\n",
    "\n",
    "#use list comprehension to calculate the daily change\n",
    "change = [abs(high-low) for high, low in zip(high_prices,low_prices)]\n",
    "#print the maximum daily change\n",
    "print(max(change))"
   ]
  },
  {
   "cell_type": "markdown",
   "metadata": {},
   "source": [
    "### 5. What was the largest change between any two days (based on Closing Price)?"
   ]
  },
  {
   "cell_type": "code",
   "execution_count": 10,
   "metadata": {},
   "outputs": [
    {
     "name": "stdout",
     "output_type": "stream",
     "text": [
      "2.559999999999995\n"
     ]
    }
   ],
   "source": [
    "#get the closing prices\n",
    "close_prices = list_from_dict_data(AFX_X_2017_dict,'Close')\n",
    "#get differences between days with list comprehension\n",
    "close_diff = [abs(close_prices[i+1]-close_prices[i]) for i in range(len(close_prices)-1)]\n",
    "#print maximum difference between days\n",
    "print(max(close_diff))"
   ]
  },
  {
   "cell_type": "markdown",
   "metadata": {},
   "source": [
    "### 6. What was the average daily trading volume during this year?"
   ]
  },
  {
   "cell_type": "code",
   "execution_count": 11,
   "metadata": {},
   "outputs": [
    {
     "name": "stdout",
     "output_type": "stream",
     "text": [
      "89124.33725490196\n"
     ]
    }
   ],
   "source": [
    "#get traded volume values\n",
    "traded_volumes = list_from_dict_data(AFX_X_2017_dict,'Traded Volume')\n",
    "#calculate and print traded volumes average\n",
    "print(sum(traded_volumes)/len(traded_volumes))"
   ]
  },
  {
   "cell_type": "markdown",
   "metadata": {},
   "source": [
    "### 7. (Optional) What was the median trading volume during this year. (Note: you may need to implement your own function for calculating the median.)"
   ]
  },
  {
   "cell_type": "code",
   "execution_count": 12,
   "metadata": {},
   "outputs": [
    {
     "name": "stdout",
     "output_type": "stream",
     "text": [
      "76286.0\n"
     ]
    }
   ],
   "source": [
    "def median(a_list):\n",
    "    '''\n",
    "    This function takes a list of floats as input.\n",
    "    It then creates the a sorted list of floats. \n",
    "    If the length of the list is even, the average of \n",
    "    the middle two sorted list values is returned.\n",
    "    If the length of the list is odd, the middle sorted \n",
    "    list value is returned.\n",
    "    '''\n",
    "    a_sorted_list = sorted(a_list)\n",
    "    \n",
    "    if len(a_list) % 2 == 0:\n",
    "        median_idx = len(a_list)//2\n",
    "        the_median = (a_sorted_list[median_idx]+a_sorted_list[median_idx-1])/2\n",
    "   \n",
    "    if len(a_list) % 2 > 0:\n",
    "        median_idx = (len(a_list)-1)//2\n",
    "        the_median = a_sorted_list[median_idx]\n",
    "    return the_median\n",
    "\n",
    "#calculate and print the median of traded volumes\n",
    "print(median(traded_volumes))"
   ]
  },
  {
   "cell_type": "code",
   "execution_count": null,
   "metadata": {
    "collapsed": true
   },
   "outputs": [],
   "source": []
  }
 ],
 "metadata": {
  "kernelspec": {
   "display_name": "Python 3",
   "language": "python",
   "name": "python3"
  },
  "language_info": {
   "codemirror_mode": {
    "name": "ipython",
    "version": 3
   },
   "file_extension": ".py",
   "mimetype": "text/x-python",
   "name": "python",
   "nbconvert_exporter": "python",
   "pygments_lexer": "ipython3",
   "version": "3.6.3"
  }
 },
 "nbformat": 4,
 "nbformat_minor": 2
}
